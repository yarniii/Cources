{
 "cells": [
  {
   "cell_type": "markdown",
   "id": "43424982",
   "metadata": {},
   "source": [
    "# Знакомство\n"
   ]
  },
  {
   "cell_type": "code",
   "execution_count": 1,
   "id": "bb0f4338",
   "metadata": {},
   "outputs": [],
   "source": [
    "analyst='Anatoly'"
   ]
  },
  {
   "cell_type": "code",
   "execution_count": 40,
   "id": "337026e5",
   "metadata": {},
   "outputs": [],
   "source": [
    "years=2 "
   ]
  },
  {
   "cell_type": "markdown",
   "id": "49cd517b",
   "metadata": {},
   "source": [
    "# Задание 1\n",
    "Начнём с простого - сохраните в переменную age произвольный возраст, выраженный целым числом, а в переменную name какое-нибудь имя в виде строки"
   ]
  },
  {
   "cell_type": "code",
   "execution_count": 3,
   "id": "8a489330",
   "metadata": {},
   "outputs": [],
   "source": [
    "age=45"
   ]
  },
  {
   "cell_type": "code",
   "execution_count": 4,
   "id": "de1ebeee",
   "metadata": {},
   "outputs": [],
   "source": [
    "name='Igor'"
   ]
  },
  {
   "cell_type": "markdown",
   "id": "2232ab55",
   "metadata": {},
   "source": [
    "# Переменные-строки, числа, списки"
   ]
  },
  {
   "cell_type": "code",
   "execution_count": 5,
   "id": "5189fa67",
   "metadata": {},
   "outputs": [],
   "source": [
    "has_job=False"
   ]
  },
  {
   "cell_type": "code",
   "execution_count": 6,
   "id": "4f78cc05",
   "metadata": {},
   "outputs": [],
   "source": [
    "analyst_2='Olga'"
   ]
  },
  {
   "cell_type": "code",
   "execution_count": 7,
   "id": "9a5410e6",
   "metadata": {},
   "outputs": [],
   "source": [
    "years_2=3"
   ]
  },
  {
   "cell_type": "code",
   "execution_count": 8,
   "id": "a7655756",
   "metadata": {},
   "outputs": [],
   "source": [
    "has_job_2=True"
   ]
  },
  {
   "cell_type": "code",
   "execution_count": 9,
   "id": "9aa777f9",
   "metadata": {},
   "outputs": [],
   "source": [
    "analysts = ['Anatoly','Olga','Beslan']"
   ]
  },
  {
   "cell_type": "code",
   "execution_count": 10,
   "id": "49c2ccc1",
   "metadata": {},
   "outputs": [],
   "source": [
    "years=[2,3,4]"
   ]
  },
  {
   "cell_type": "code",
   "execution_count": 11,
   "id": "2b3f03fb",
   "metadata": {},
   "outputs": [
    {
     "data": {
      "text/plain": [
       "['Anatoly', 'Olga', 'Beslan']"
      ]
     },
     "execution_count": 11,
     "metadata": {},
     "output_type": "execute_result"
    }
   ],
   "source": [
    "analysts"
   ]
  },
  {
   "cell_type": "code",
   "execution_count": 12,
   "id": "f9774014",
   "metadata": {},
   "outputs": [
    {
     "data": {
      "text/plain": [
       "'Anatoly'"
      ]
     },
     "execution_count": 12,
     "metadata": {},
     "output_type": "execute_result"
    }
   ],
   "source": [
    "analysts[0]"
   ]
  },
  {
   "cell_type": "markdown",
   "id": "ba3b5369",
   "metadata": {},
   "source": [
    "# Задание 2\n",
    "Создайте список user_info, содержащий 2 строки (имя и фамилия пользователя), 1 дробное число (зарплата) и 1 целое число (стаж)"
   ]
  },
  {
   "cell_type": "code",
   "execution_count": 13,
   "id": "8ac111d4",
   "metadata": {},
   "outputs": [],
   "source": [
    "user_info=['Igor','Evon',25.4,5]"
   ]
  },
  {
   "cell_type": "code",
   "execution_count": 14,
   "id": "66092d56",
   "metadata": {},
   "outputs": [
    {
     "data": {
      "text/plain": [
       "['Igor', 'Evon', 25.4, 5]"
      ]
     },
     "execution_count": 14,
     "metadata": {},
     "output_type": "execute_result"
    }
   ],
   "source": [
    "user_info"
   ]
  },
  {
   "cell_type": "code",
   "execution_count": 15,
   "id": "e456ac10",
   "metadata": {},
   "outputs": [],
   "source": [
    "salaries=[1,2,3,4,5]"
   ]
  },
  {
   "cell_type": "code",
   "execution_count": 16,
   "id": "e503e70c",
   "metadata": {},
   "outputs": [
    {
     "data": {
      "text/plain": [
       "[1, 2, 3, 4, 5]"
      ]
     },
     "execution_count": 16,
     "metadata": {},
     "output_type": "execute_result"
    }
   ],
   "source": [
    "salaries\n",
    "\n"
   ]
  },
  {
   "cell_type": "code",
   "execution_count": 17,
   "id": "b33196fd",
   "metadata": {},
   "outputs": [
    {
     "data": {
      "text/plain": [
       "5"
      ]
     },
     "execution_count": 17,
     "metadata": {},
     "output_type": "execute_result"
    }
   ],
   "source": [
    "salaries[-1]"
   ]
  },
  {
   "cell_type": "code",
   "execution_count": 18,
   "id": "41d7f49e",
   "metadata": {},
   "outputs": [
    {
     "data": {
      "text/plain": [
       "5"
      ]
     },
     "execution_count": 18,
     "metadata": {},
     "output_type": "execute_result"
    }
   ],
   "source": [
    "salaries[4]"
   ]
  },
  {
   "cell_type": "markdown",
   "id": "14929aa8",
   "metadata": {},
   "source": [
    "# Подробнее о списках"
   ]
  },
  {
   "cell_type": "code",
   "execution_count": 19,
   "id": "d64c61fb",
   "metadata": {},
   "outputs": [
    {
     "data": {
      "text/plain": [
       "3"
      ]
     },
     "execution_count": 19,
     "metadata": {},
     "output_type": "execute_result"
    }
   ],
   "source": [
    "len(analysts) "
   ]
  },
  {
   "cell_type": "code",
   "execution_count": 20,
   "id": "c9a2ca1d",
   "metadata": {},
   "outputs": [],
   "source": [
    "analysts.append('Michael')"
   ]
  },
  {
   "cell_type": "code",
   "execution_count": 21,
   "id": "2586ad96",
   "metadata": {},
   "outputs": [
    {
     "data": {
      "text/plain": [
       "['Anatoly', 'Olga', 'Beslan', 'Michael']"
      ]
     },
     "execution_count": 21,
     "metadata": {},
     "output_type": "execute_result"
    }
   ],
   "source": [
    "analysts"
   ]
  },
  {
   "cell_type": "code",
   "execution_count": 22,
   "id": "1733e662",
   "metadata": {},
   "outputs": [
    {
     "data": {
      "text/plain": [
       "'Michael'"
      ]
     },
     "execution_count": 22,
     "metadata": {},
     "output_type": "execute_result"
    }
   ],
   "source": [
    "analysts.pop(3)"
   ]
  },
  {
   "cell_type": "code",
   "execution_count": 23,
   "id": "4c5333f3",
   "metadata": {},
   "outputs": [
    {
     "data": {
      "text/plain": [
       "['Anatoly', 'Olga', 'Beslan']"
      ]
     },
     "execution_count": 23,
     "metadata": {},
     "output_type": "execute_result"
    }
   ],
   "source": [
    "analysts"
   ]
  },
  {
   "cell_type": "markdown",
   "id": "6af23a97",
   "metadata": {},
   "source": [
    "# Задание 3,4\n",
    "Поместите в переменную first первый (то есть нулевой) элемент из списка salaries\n",
    "\n",
    "Добавьте в список users элементы 'Voronov' и 42\n"
   ]
  },
  {
   "cell_type": "code",
   "execution_count": 24,
   "id": "3d4cbc6d",
   "metadata": {},
   "outputs": [],
   "source": [
    "first=salaries[0]"
   ]
  },
  {
   "cell_type": "code",
   "execution_count": 25,
   "id": "f9a8897a",
   "metadata": {},
   "outputs": [
    {
     "data": {
      "text/plain": [
       "1"
      ]
     },
     "execution_count": 25,
     "metadata": {},
     "output_type": "execute_result"
    }
   ],
   "source": [
    "first"
   ]
  },
  {
   "cell_type": "code",
   "execution_count": 26,
   "id": "29480839",
   "metadata": {},
   "outputs": [],
   "source": [
    "users=[]"
   ]
  },
  {
   "cell_type": "code",
   "execution_count": 27,
   "id": "0bfd77c3",
   "metadata": {},
   "outputs": [],
   "source": [
    "users.append('Voronov')"
   ]
  },
  {
   "cell_type": "code",
   "execution_count": 28,
   "id": "3f0821a8",
   "metadata": {},
   "outputs": [],
   "source": [
    "users.append(42)"
   ]
  },
  {
   "cell_type": "code",
   "execution_count": 29,
   "id": "8b7a180a",
   "metadata": {},
   "outputs": [
    {
     "data": {
      "text/plain": [
       "['Voronov', 42]"
      ]
     },
     "execution_count": 29,
     "metadata": {},
     "output_type": "execute_result"
    }
   ],
   "source": [
    "users"
   ]
  },
  {
   "cell_type": "markdown",
   "id": "0db79f8e",
   "metadata": {},
   "source": [
    " # Конструкция if else"
   ]
  },
  {
   "cell_type": "code",
   "execution_count": 35,
   "id": "1c7f4e43",
   "metadata": {},
   "outputs": [],
   "source": [
    "has_job=False"
   ]
  },
  {
   "cell_type": "code",
   "execution_count": 31,
   "id": "ca9ec377",
   "metadata": {},
   "outputs": [
    {
     "data": {
      "text/plain": [
       "[2, 3, 4]"
      ]
     },
     "execution_count": 31,
     "metadata": {},
     "output_type": "execute_result"
    }
   ],
   "source": [
    "years"
   ]
  },
  {
   "cell_type": "code",
   "execution_count": 37,
   "id": "a103a338",
   "metadata": {},
   "outputs": [
    {
     "name": "stdout",
     "output_type": "stream",
     "text": [
      "Anatoly is sad\n"
     ]
    }
   ],
   "source": [
    "if has_job:\n",
    "    print('Anatoly is happy')\n",
    "else:\n",
    "    print('Anatoly is sad')"
   ]
  },
  {
   "cell_type": "code",
   "execution_count": 55,
   "id": "5da0649b",
   "metadata": {},
   "outputs": [
    {
     "name": "stdout",
     "output_type": "stream",
     "text": [
      "Salary =  180000.0\n"
     ]
    }
   ],
   "source": [
    "if years<1:\n",
    "    print('Salary = ',salary)\n",
    "elif years in range(1,4):\n",
    "    print ('Salary = ',salary * 1.3)\n",
    "elif years > 5:\n",
    "    print('Salary = ',salary * 1.8)"
   ]
  },
  {
   "cell_type": "code",
   "execution_count": 52,
   "id": "1fe762f8",
   "metadata": {},
   "outputs": [],
   "source": [
    "years=6"
   ]
  },
  {
   "cell_type": "code",
   "execution_count": 54,
   "id": "ccbcee3b",
   "metadata": {},
   "outputs": [],
   "source": [
    "salary=100000"
   ]
  },
  {
   "cell_type": "markdown",
   "id": "304caa7f",
   "metadata": {},
   "source": [
    "# Задание 5\n",
    "В переменной user_ages содержится список возрастов клиентов. Напишите петлю, выводящую на печать возраста, которые больше 18\n",
    "Пример данных, которые могут быть в user_ages\n",
    "user_ages = [10, 18, 21, 35, 42, 27, 12, 16]"
   ]
  },
  {
   "cell_type": "code",
   "execution_count": 56,
   "id": "46848834",
   "metadata": {},
   "outputs": [],
   "source": [
    "user_ages=[10, 18, 21, 35, 42, 27, 12, 16]"
   ]
  },
  {
   "cell_type": "code",
   "execution_count": 60,
   "id": "aed8912d",
   "metadata": {},
   "outputs": [
    {
     "name": "stdout",
     "output_type": "stream",
     "text": [
      "21\n",
      "35\n",
      "42\n",
      "27\n"
     ]
    }
   ],
   "source": [
    "for i in user_ages:\n",
    "    if i >18:\n",
    "        print(i)"
   ]
  },
  {
   "cell_type": "markdown",
   "id": "1178543e",
   "metadata": {},
   "source": [
    "# Метод строк FORMAT"
   ]
  },
  {
   "cell_type": "code",
   "execution_count": 72,
   "id": "649bb2aa",
   "metadata": {},
   "outputs": [],
   "source": [
    "messeage='Additional equal {coef}. New salary is {new_salary} '"
   ]
  },
  {
   "cell_type": "code",
   "execution_count": 73,
   "id": "1fe46089",
   "metadata": {},
   "outputs": [
    {
     "name": "stdout",
     "output_type": "stream",
     "text": [
      "Additional equal 0.4. New salary is 140000.0 \n",
      "140000.0\n"
     ]
    }
   ],
   "source": [
    "if years<1:\n",
    "    coef=0\n",
    "elif years in range(1,4):\n",
    "    coef=0.2\n",
    "elif years > 5:\n",
    "    coef=0.4\n",
    "new_salary=salary+salary*coef\n",
    "print(messeage.format(coef=coef,new_salary=new_salary) )\n",
    "print(new_salary)"
   ]
  },
  {
   "cell_type": "markdown",
   "id": "247b1f38",
   "metadata": {},
   "source": [
    "# Задание 6\n",
    " Напишите программу, проверяющую стаж работы сотрудника. В переменной worker содержится список, содержащий значения как во 2-ом задании (имя, фамилия, зарплата, стаж). Поместите в переменную status такую строку\n"
   ]
  },
  {
   "cell_type": "code",
   "execution_count": 74,
   "id": "dff60fee",
   "metadata": {},
   "outputs": [],
   "source": [
    "worker = ['Olya', 'Silyutina', 350000, 3]"
   ]
  },
  {
   "cell_type": "code",
   "execution_count": 75,
   "id": "9ac1a96d",
   "metadata": {},
   "outputs": [],
   "source": [
    "user_name=worker[0]"
   ]
  },
  {
   "cell_type": "code",
   "execution_count": 77,
   "id": "421edf29",
   "metadata": {},
   "outputs": [],
   "source": [
    "user_family=worker[1]"
   ]
  },
  {
   "cell_type": "code",
   "execution_count": 78,
   "id": "92b0101e",
   "metadata": {},
   "outputs": [],
   "source": [
    "stag=worker[3]"
   ]
  },
  {
   "cell_type": "code",
   "execution_count": 81,
   "id": "692c7659",
   "metadata": {},
   "outputs": [],
   "source": [
    "if stag<2:\n",
    "    position='Juniur'\n",
    "elif stag in range(2,6):\n",
    "    position='middle'\n",
    "elif stag>5:\n",
    "    position='senior'"
   ]
  },
  {
   "cell_type": "code",
   "execution_count": 82,
   "id": "ed3d2749",
   "metadata": {},
   "outputs": [],
   "source": [
    "status='{user_name} {user_family} is {position}'.format(user_name=user_name, user_family=user_family, position=position)"
   ]
  },
  {
   "cell_type": "code",
   "execution_count": 83,
   "id": "494d0bd3",
   "metadata": {},
   "outputs": [
    {
     "name": "stdout",
     "output_type": "stream",
     "text": [
      "Olya Silyutina is middle\n"
     ]
    }
   ],
   "source": [
    "print(status)"
   ]
  },
  {
   "cell_type": "markdown",
   "id": "cd31df40",
   "metadata": {},
   "source": [
    "# Конструкция for"
   ]
  },
  {
   "cell_type": "code",
   "execution_count": 84,
   "id": "3ece5e05",
   "metadata": {},
   "outputs": [
    {
     "data": {
      "text/plain": [
       "['Anatoly', 'Olga', 'Beslan']"
      ]
     },
     "execution_count": 84,
     "metadata": {},
     "output_type": "execute_result"
    }
   ],
   "source": [
    "analysts"
   ]
  },
  {
   "cell_type": "code",
   "execution_count": 87,
   "id": "5db95ddd",
   "metadata": {},
   "outputs": [
    {
     "name": "stdout",
     "output_type": "stream",
     "text": [
      "Analyst name is Anatoly\n"
     ]
    }
   ],
   "source": [
    "for i in analysts:\n",
    "    if i=='Anatoly':\n",
    "        print('Analyst name is {}'.format(i))"
   ]
  },
  {
   "cell_type": "markdown",
   "id": "70f6080a",
   "metadata": {},
   "source": [
    "# Задание 7 \n",
    "В списке values содержатся числовые значения. Создайте список tens и добавьте в него все числа из values, которые делятся на 10 нацело\n",
    "Пример данных, которые могут быть в values\n",
    "values = [12, 134, 10, 47, 100, 20, 50, 160, 210"
   ]
  },
  {
   "cell_type": "code",
   "execution_count": 89,
   "id": "6da0643f",
   "metadata": {},
   "outputs": [],
   "source": [
    "values = [12, 134, 10, 47, 100, 20, 50, 160, 210]"
   ]
  },
  {
   "cell_type": "code",
   "execution_count": 94,
   "id": "3f47e81b",
   "metadata": {},
   "outputs": [],
   "source": [
    "ten=[i for i in values if i%10==0]"
   ]
  },
  {
   "cell_type": "code",
   "execution_count": 95,
   "id": "43f2e090",
   "metadata": {},
   "outputs": [
    {
     "data": {
      "text/plain": [
       "[10, 100, 20, 50, 160, 210]"
      ]
     },
     "execution_count": 95,
     "metadata": {},
     "output_type": "execute_result"
    }
   ],
   "source": [
    "ten"
   ]
  },
  {
   "cell_type": "markdown",
   "id": "fcf4b494",
   "metadata": {},
   "source": [
    "# Словари"
   ]
  },
  {
   "cell_type": "code",
   "execution_count": 96,
   "id": "9aa8ab5a",
   "metadata": {},
   "outputs": [],
   "source": [
    "analysts_data={'Anatoly': 2, 'Olga':3, 'Beslan':4}"
   ]
  },
  {
   "cell_type": "code",
   "execution_count": 99,
   "id": "ef9c50e2",
   "metadata": {},
   "outputs": [
    {
     "data": {
      "text/plain": [
       "3"
      ]
     },
     "execution_count": 99,
     "metadata": {},
     "output_type": "execute_result"
    }
   ],
   "source": [
    "analysts_data['Olga']"
   ]
  },
  {
   "cell_type": "code",
   "execution_count": 100,
   "id": "a55658ca",
   "metadata": {},
   "outputs": [],
   "source": [
    "analysts_data['Mickle']=10"
   ]
  },
  {
   "cell_type": "code",
   "execution_count": 101,
   "id": "309f2ba2",
   "metadata": {},
   "outputs": [
    {
     "data": {
      "text/plain": [
       "{'Anatoly': 2, 'Olga': 3, 'Beslan': 4, 'Mickle': 10}"
      ]
     },
     "execution_count": 101,
     "metadata": {},
     "output_type": "execute_result"
    }
   ],
   "source": [
    "analysts_data"
   ]
  },
  {
   "cell_type": "code",
   "execution_count": 103,
   "id": "cdabc471",
   "metadata": {},
   "outputs": [
    {
     "name": "stdout",
     "output_type": "stream",
     "text": [
      "Beslan\n",
      "Mickle\n"
     ]
    }
   ],
   "source": [
    "for i in analysts_data:\n",
    "    if analysts_data[i]>3:\n",
    "        print(i)"
   ]
  },
  {
   "cell_type": "markdown",
   "id": "005ddb8b",
   "metadata": {},
   "source": [
    "# Задание 8\n",
    "Реализуйте цикл, который пробегается по списку workers со значениями как в 2-ом и 6-ом заданиях, и выводит для каждого сотрудника строку (то есть печатает её для каждого элемента списка)\n",
    "user_name user_family is position\n",
    "где user_name и user_family - имя и фамилия сотрудника, а position - одна из следующих строк\n",
    "'junior' - стаж меньше 2 лет\n",
    "'middle' - стаж больше либо равен 2 лет\n",
    "'senior' - стаж больше 5 лет \n",
    "Пример данных, которые могут быть в workers\n",
    "workers = [['Ivan', 'Ivanov', 100000, 2], ['Petr', 'Petrov', 150000, 2], ['Sidor', 'Sidorov', 200000, 3]]"
   ]
  },
  {
   "cell_type": "code",
   "execution_count": 125,
   "id": "a0788404",
   "metadata": {},
   "outputs": [],
   "source": [
    "workers = [['Ivan', 'Ivanov', 100000, 1], ['Petr', 'Petrov', 150000, 5], ['Sidr', 'Sidorov', 200000, 8]]"
   ]
  },
  {
   "cell_type": "code",
   "execution_count": 128,
   "id": "93eadd6f",
   "metadata": {},
   "outputs": [
    {
     "name": "stdout",
     "output_type": "stream",
     "text": [
      "Ivan Ivanov is Junior\n",
      "Petr Petrov is Middle\n",
      "Sidr Sidorov is Senior\n"
     ]
    }
   ],
   "source": [
    "for i in workers:\n",
    "    user_name=i[0]\n",
    "    user_family=i[1]\n",
    "    age=i[-1]\n",
    "    if age <2:\n",
    "        position='Junior'\n",
    "    elif age in range(2,6):\n",
    "        position='Middle'\n",
    "    elif age > 5:\n",
    "        position='Senior'\n",
    "    print('{user_name} {user_family} is {position}'.format(\n",
    "    user_name=user_name,user_family=user_family,position=position))"
   ]
  },
  {
   "cell_type": "code",
   "execution_count": null,
   "id": "bc47d0fb",
   "metadata": {},
   "outputs": [],
   "source": []
  }
 ],
 "metadata": {
  "kernelspec": {
   "display_name": "Python 3 (ipykernel)",
   "language": "python",
   "name": "python3"
  },
  "language_info": {
   "codemirror_mode": {
    "name": "ipython",
    "version": 3
   },
   "file_extension": ".py",
   "mimetype": "text/x-python",
   "name": "python",
   "nbconvert_exporter": "python",
   "pygments_lexer": "ipython3",
   "version": "3.10.6"
  }
 },
 "nbformat": 4,
 "nbformat_minor": 5
}
